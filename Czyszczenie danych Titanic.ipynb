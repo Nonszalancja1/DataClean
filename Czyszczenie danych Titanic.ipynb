{
 "cells": [
  {
   "cell_type": "markdown",
   "metadata": {},
   "source": [
    "\n",
    "# Czyszczenie danych Titanic"
   ]
  },
  {
   "cell_type": "markdown",
   "metadata": {},
   "source": [
    "\n",
    "## Celem naszego zadania jest analiza zbioru danych \"TitanicMess.tsv\", zidentyfikowanie problemów, oczyszczenie danych.\n",
    "\n",
    "Ostatecznym punktem zadania jest ukazanie danych po analizie \n",
    "\n",
    "Pracę rozpoczynam od zaimportowania niezbędnych bibliotek oraz importu danych"
   ]
  },
  {
   "cell_type": "code",
   "execution_count": 3,
   "metadata": {},
   "outputs": [],
   "source": [
    "import pandas as pd\n",
    "import numpy as np\n",
    "import matplotlib.pyplot as plt\n",
    "import math as math\n",
    "import statistics\n",
    "\n",
    "\n",
    "%matplotlib inline"
   ]
  },
  {
   "cell_type": "markdown",
   "metadata": {},
   "source": [
    "Zaimportowanie danych "
   ]
  },
  {
   "cell_type": "code",
   "execution_count": 4,
   "metadata": {
    "scrolled": true
   },
   "outputs": [
    {
     "data": {
      "text/html": [
       "<div>\n",
       "<style scoped>\n",
       "    .dataframe tbody tr th:only-of-type {\n",
       "        vertical-align: middle;\n",
       "    }\n",
       "\n",
       "    .dataframe tbody tr th {\n",
       "        vertical-align: top;\n",
       "    }\n",
       "\n",
       "    .dataframe thead th {\n",
       "        text-align: right;\n",
       "    }\n",
       "</style>\n",
       "<table border=\"1\" class=\"dataframe\">\n",
       "  <thead>\n",
       "    <tr style=\"text-align: right;\">\n",
       "      <th></th>\n",
       "      <th>PassengerId</th>\n",
       "      <th>Survived</th>\n",
       "      <th>Pclass</th>\n",
       "      <th>Name</th>\n",
       "      <th>Sex</th>\n",
       "      <th>Age</th>\n",
       "      <th>SibSp</th>\n",
       "      <th>Parch</th>\n",
       "      <th>Ticket</th>\n",
       "      <th>Fare</th>\n",
       "      <th>Cabin</th>\n",
       "      <th>Embarked</th>\n",
       "      <th>ship</th>\n",
       "    </tr>\n",
       "  </thead>\n",
       "  <tbody>\n",
       "    <tr>\n",
       "      <td>0</td>\n",
       "      <td>1</td>\n",
       "      <td>0</td>\n",
       "      <td>3</td>\n",
       "      <td>Braund, Mr. Owen Harris</td>\n",
       "      <td>male</td>\n",
       "      <td>22</td>\n",
       "      <td>1</td>\n",
       "      <td>0</td>\n",
       "      <td>A/5 21171</td>\n",
       "      <td>7,25</td>\n",
       "      <td>NaN</td>\n",
       "      <td>S</td>\n",
       "      <td>Titanic</td>\n",
       "    </tr>\n",
       "    <tr>\n",
       "      <td>1</td>\n",
       "      <td>2</td>\n",
       "      <td>1</td>\n",
       "      <td>1</td>\n",
       "      <td>Cumings, Mrs. John Bradley (Florence Briggs Th...</td>\n",
       "      <td>female</td>\n",
       "      <td>38</td>\n",
       "      <td>1</td>\n",
       "      <td>0</td>\n",
       "      <td>PC 17599</td>\n",
       "      <td>71,2833</td>\n",
       "      <td>C85</td>\n",
       "      <td>C</td>\n",
       "      <td>Titanic</td>\n",
       "    </tr>\n",
       "    <tr>\n",
       "      <td>2</td>\n",
       "      <td>3</td>\n",
       "      <td>1</td>\n",
       "      <td>3</td>\n",
       "      <td>Heikkinen, Miss. Laina</td>\n",
       "      <td>female</td>\n",
       "      <td>26</td>\n",
       "      <td>0</td>\n",
       "      <td>0</td>\n",
       "      <td>STON/O2. 3101282</td>\n",
       "      <td>7,925</td>\n",
       "      <td>NaN</td>\n",
       "      <td>S</td>\n",
       "      <td>Titanic</td>\n",
       "    </tr>\n",
       "    <tr>\n",
       "      <td>3</td>\n",
       "      <td>4</td>\n",
       "      <td>1</td>\n",
       "      <td>1</td>\n",
       "      <td>Futrelle, Mrs. Jacques Heath (Lily May Peel)</td>\n",
       "      <td>female</td>\n",
       "      <td>35</td>\n",
       "      <td>1</td>\n",
       "      <td>0</td>\n",
       "      <td>113803</td>\n",
       "      <td>53,1</td>\n",
       "      <td>C123</td>\n",
       "      <td>S</td>\n",
       "      <td>Titanic</td>\n",
       "    </tr>\n",
       "    <tr>\n",
       "      <td>4</td>\n",
       "      <td>5</td>\n",
       "      <td>0</td>\n",
       "      <td>3</td>\n",
       "      <td>Allen, Mr. William Henry</td>\n",
       "      <td>male</td>\n",
       "      <td>35</td>\n",
       "      <td>0</td>\n",
       "      <td>0</td>\n",
       "      <td>373450</td>\n",
       "      <td>8,05</td>\n",
       "      <td>NaN</td>\n",
       "      <td>S</td>\n",
       "      <td>Titanic</td>\n",
       "    </tr>\n",
       "  </tbody>\n",
       "</table>\n",
       "</div>"
      ],
      "text/plain": [
       "   PassengerId  Survived  Pclass  \\\n",
       "0            1         0       3   \n",
       "1            2         1       1   \n",
       "2            3         1       3   \n",
       "3            4         1       1   \n",
       "4            5         0       3   \n",
       "\n",
       "                                                Name     Sex Age  SibSp  \\\n",
       "0                            Braund, Mr. Owen Harris    male  22      1   \n",
       "1  Cumings, Mrs. John Bradley (Florence Briggs Th...  female  38      1   \n",
       "2                             Heikkinen, Miss. Laina  female  26      0   \n",
       "3       Futrelle, Mrs. Jacques Heath (Lily May Peel)  female  35      1   \n",
       "4                           Allen, Mr. William Henry    male  35      0   \n",
       "\n",
       "   Parch            Ticket     Fare Cabin Embarked     ship  \n",
       "0      0         A/5 21171     7,25   NaN        S  Titanic  \n",
       "1      0          PC 17599  71,2833   C85        C  Titanic  \n",
       "2      0  STON/O2. 3101282    7,925   NaN        S  Titanic  \n",
       "3      0            113803     53,1  C123        S  Titanic  \n",
       "4      0            373450     8,05   NaN        S  Titanic  "
      ]
     },
     "execution_count": 4,
     "metadata": {},
     "output_type": "execute_result"
    }
   ],
   "source": [
    "titanic_dt = pd.read_csv('C:/Users/user/Desktop/TitanicMess.tsv', sep = '\\t')\n",
    "titanic_dt.head()"
   ]
  },
  {
   "cell_type": "markdown",
   "metadata": {},
   "source": [
    "Korzystam z funkcji head do wyświetlenia 5 pierwszych wierszy z ramki danych titanic_dt"
   ]
  },
  {
   "cell_type": "markdown",
   "metadata": {},
   "source": [
    "Używam funkcji \"tail\" do wyświetlenia końcowej sekwencji danych"
   ]
  },
  {
   "cell_type": "code",
   "execution_count": 5,
   "metadata": {},
   "outputs": [
    {
     "data": {
      "text/html": [
       "<div>\n",
       "<style scoped>\n",
       "    .dataframe tbody tr th:only-of-type {\n",
       "        vertical-align: middle;\n",
       "    }\n",
       "\n",
       "    .dataframe tbody tr th {\n",
       "        vertical-align: top;\n",
       "    }\n",
       "\n",
       "    .dataframe thead th {\n",
       "        text-align: right;\n",
       "    }\n",
       "</style>\n",
       "<table border=\"1\" class=\"dataframe\">\n",
       "  <thead>\n",
       "    <tr style=\"text-align: right;\">\n",
       "      <th></th>\n",
       "      <th>PassengerId</th>\n",
       "      <th>Survived</th>\n",
       "      <th>Pclass</th>\n",
       "      <th>Name</th>\n",
       "      <th>Sex</th>\n",
       "      <th>Age</th>\n",
       "      <th>SibSp</th>\n",
       "      <th>Parch</th>\n",
       "      <th>Ticket</th>\n",
       "      <th>Fare</th>\n",
       "      <th>Cabin</th>\n",
       "      <th>Embarked</th>\n",
       "      <th>ship</th>\n",
       "    </tr>\n",
       "  </thead>\n",
       "  <tbody>\n",
       "    <tr>\n",
       "      <td>887</td>\n",
       "      <td>888</td>\n",
       "      <td>1</td>\n",
       "      <td>1</td>\n",
       "      <td>Graham, Miss. Margaret Edith</td>\n",
       "      <td>female</td>\n",
       "      <td>19</td>\n",
       "      <td>0</td>\n",
       "      <td>0</td>\n",
       "      <td>112053</td>\n",
       "      <td>30</td>\n",
       "      <td>B42</td>\n",
       "      <td>S</td>\n",
       "      <td>Titanic</td>\n",
       "    </tr>\n",
       "    <tr>\n",
       "      <td>888</td>\n",
       "      <td>889</td>\n",
       "      <td>0</td>\n",
       "      <td>3</td>\n",
       "      <td>Johnston, Miss. Catherine Helen \"Carrie\"</td>\n",
       "      <td>female</td>\n",
       "      <td>NaN</td>\n",
       "      <td>1</td>\n",
       "      <td>2</td>\n",
       "      <td>W./C. 6607</td>\n",
       "      <td>23,45</td>\n",
       "      <td>NaN</td>\n",
       "      <td>S</td>\n",
       "      <td>Titanic</td>\n",
       "    </tr>\n",
       "    <tr>\n",
       "      <td>889</td>\n",
       "      <td>890</td>\n",
       "      <td>1</td>\n",
       "      <td>1</td>\n",
       "      <td>Behr, Mr. Karl Howell</td>\n",
       "      <td>male</td>\n",
       "      <td>26</td>\n",
       "      <td>0</td>\n",
       "      <td>0</td>\n",
       "      <td>111369</td>\n",
       "      <td>30</td>\n",
       "      <td>C148</td>\n",
       "      <td>C</td>\n",
       "      <td>Titanic</td>\n",
       "    </tr>\n",
       "    <tr>\n",
       "      <td>890</td>\n",
       "      <td>891</td>\n",
       "      <td>0</td>\n",
       "      <td>3</td>\n",
       "      <td>Dooley, Mr. Patrick</td>\n",
       "      <td>male</td>\n",
       "      <td>32</td>\n",
       "      <td>0</td>\n",
       "      <td>0</td>\n",
       "      <td>370376</td>\n",
       "      <td>7,75</td>\n",
       "      <td>NaN</td>\n",
       "      <td>Q</td>\n",
       "      <td>Titanic</td>\n",
       "    </tr>\n",
       "    <tr>\n",
       "      <td>891</td>\n",
       "      <td>1000</td>\n",
       "      <td>1</td>\n",
       "      <td>1</td>\n",
       "      <td>Mr. Frederick Maxfield Hoyt</td>\n",
       "      <td>male</td>\n",
       "      <td>38</td>\n",
       "      <td>1</td>\n",
       "      <td>0</td>\n",
       "      <td>19943</td>\n",
       "      <td>90</td>\n",
       "      <td>C93</td>\n",
       "      <td>S</td>\n",
       "      <td>Titanic</td>\n",
       "    </tr>\n",
       "  </tbody>\n",
       "</table>\n",
       "</div>"
      ],
      "text/plain": [
       "     PassengerId  Survived  Pclass                                      Name  \\\n",
       "887          888         1       1              Graham, Miss. Margaret Edith   \n",
       "888          889         0       3  Johnston, Miss. Catherine Helen \"Carrie\"   \n",
       "889          890         1       1                     Behr, Mr. Karl Howell   \n",
       "890          891         0       3                       Dooley, Mr. Patrick   \n",
       "891         1000         1       1               Mr. Frederick Maxfield Hoyt   \n",
       "\n",
       "        Sex  Age  SibSp  Parch      Ticket   Fare Cabin Embarked     ship  \n",
       "887  female   19      0      0      112053     30   B42        S  Titanic  \n",
       "888  female  NaN      1      2  W./C. 6607  23,45   NaN        S  Titanic  \n",
       "889    male   26      0      0      111369     30  C148        C  Titanic  \n",
       "890    male   32      0      0      370376   7,75   NaN        Q  Titanic  \n",
       "891    male   38      1      0       19943     90   C93        S  Titanic  "
      ]
     },
     "execution_count": 5,
     "metadata": {},
     "output_type": "execute_result"
    }
   ],
   "source": [
    "titanic_dt.tail()"
   ]
  },
  {
   "cell_type": "markdown",
   "metadata": {},
   "source": [
    "# Zauważamy kilka kwestii:\n",
    "a) W zbiorze występują kolumny w których znajdują się brakujące dane. Na dwóch powyższych wycinkach są one w kolumnie \"Age\" i \"Cabin\".\n",
    "\n",
    "b) Wiele kolumn posiada dane kategoryzujące. Nominalne (kolumna Sex) oraz porządkowe (kolumna Pclass). Dane przedstawione w postaci numerycznej oraz jako łańcuch znaków.\n",
    "\n",
    "c) Dane numeryczne nie są przeskalowane - dotyczy to np kolumny Age.\n",
    "\n",
    "d) Dane mogą się duplikować.\n",
    "\n",
    "e) Do analizy chcę wybrać kolumnę, której wartość chcę przewidywać, oraz wyselekcjonować odpowiednie kolumny niezbędne do danego przewidywania.\n"
   ]
  },
  {
   "cell_type": "markdown",
   "metadata": {},
   "source": [
    "Jak zauważamy kolumna Cabin nie dostarcza nam żadnej istotnej informacji do analizy, wobec tego usuwam ją z ramki danych"
   ]
  },
  {
   "cell_type": "code",
   "execution_count": 6,
   "metadata": {},
   "outputs": [],
   "source": [
    "titanic_dt.drop('Cabin',axis=1, inplace=True)"
   ]
  },
  {
   "cell_type": "markdown",
   "metadata": {},
   "source": [
    "taki sam zabieg wykonuję dla kolumny \"Embarked\""
   ]
  },
  {
   "cell_type": "code",
   "execution_count": 7,
   "metadata": {},
   "outputs": [],
   "source": [
    "titanic_dt.drop('Embarked',axis=1, inplace=True)"
   ]
  },
  {
   "cell_type": "code",
   "execution_count": null,
   "metadata": {},
   "outputs": [],
   "source": []
  },
  {
   "cell_type": "code",
   "execution_count": null,
   "metadata": {},
   "outputs": [],
   "source": []
  },
  {
   "cell_type": "markdown",
   "metadata": {},
   "source": [
    "Brakujące dane- wyświetlenie ich wartości "
   ]
  },
  {
   "cell_type": "code",
   "execution_count": 8,
   "metadata": {},
   "outputs": [
    {
     "name": "stdout",
     "output_type": "stream",
     "text": [
      "PassengerId\n",
      "225    3\n",
      "11     3\n",
      "295    1\n",
      "306    1\n",
      "305    1\n",
      "      ..\n",
      "592    1\n",
      "591    1\n",
      "590    1\n",
      "589    1\n",
      "1      1\n",
      "Name: PassengerId, Length: 888, dtype: int64\n",
      "Survived\n",
      "0    547\n",
      "1    345\n",
      "Name: Survived, dtype: int64\n",
      "Pclass\n",
      "3    491\n",
      "1    217\n",
      "2    184\n",
      "Name: Pclass, dtype: int64\n",
      "Name\n",
      "Sandstrom, Miss. Marguerite Ru&5$$    3\n",
      "Hoyt, Mr. Frederick Maxfield          2\n",
      "Windelov, Mr. Einar                   1\n",
      "Dowdell, Miss. Elizabeth              1\n",
      "Scanlan, Mr. James                    1\n",
      "                                     ..\n",
      "Olsen, Mr. Karl Siegwart Andreas      1\n",
      "Pain, Dr. Alfred                      1\n",
      "Sirayanian, Mr. Orsen                 1\n",
      "Frauenthal, Dr. Henry William         1\n",
      "Wiklund, Mr. Jakob Alfred             1\n",
      "Name: Name, Length: 889, dtype: int64\n",
      "Sex\n",
      "male       576\n",
      "female     312\n",
      "fem          1\n",
      "malef        1\n",
      "femmale      1\n",
      "mal          1\n",
      "Name: Sex, dtype: int64\n",
      "Age\n",
      "NaN     173\n",
      "24       30\n",
      "22       27\n",
      "18       26\n",
      "19       25\n",
      "       ... \n",
      "70,5      1\n",
      "14,5      1\n",
      "12        1\n",
      "250       1\n",
      "55,5      1\n",
      "Name: Age, Length: 94, dtype: int64\n",
      "SibSp\n",
      "0    606\n",
      "1    212\n",
      "2     28\n",
      "4     18\n",
      "3     16\n",
      "8      7\n",
      "5      5\n",
      "Name: SibSp, dtype: int64\n",
      "Parch\n",
      "0    679\n",
      "1    120\n",
      "2     80\n",
      "3      5\n",
      "5      4\n",
      "4      4\n",
      "Name: Parch, dtype: int64\n",
      "Ticket\n",
      "CA. 2343            7\n",
      "1601                7\n",
      "347088              6\n",
      "3101295             6\n",
      "347082              6\n",
      "                   ..\n",
      "14312               1\n",
      "244270              1\n",
      "349249              1\n",
      "SOTON/O2 3101272    1\n",
      "27042               1\n",
      "Name: Ticket, Length: 680, dtype: int64\n",
      "Fare\n",
      "8,05       43\n",
      "13         42\n",
      "7,8958     38\n",
      "7,75       34\n",
      "26         31\n",
      "           ..\n",
      "26,3875     1\n",
      "13,8583     1\n",
      "9,475       1\n",
      "-90         1\n",
      "21,6792     1\n",
      "Name: Fare, Length: 250, dtype: int64\n",
      "ship\n",
      "Titanic    892\n",
      "Name: ship, dtype: int64\n"
     ]
    }
   ],
   "source": [
    "column_names = titanic_dt.columns.tolist()\n",
    "for column in column_names:\n",
    "    print(column)\n",
    "    print(titanic_dt[column].value_counts(dropna = False))"
   ]
  },
  {
   "cell_type": "markdown",
   "metadata": {},
   "source": [
    "Obserwujemy, że brakuje wartości w 173 wierszach w kolumnie Age oraz wartości których nie są skalowalne.\n",
    "\n",
    "Cztery wartości w kolumnie Sex nie mają odpowiedniej nazwy przez co nie są dobrze przypisane do wartości."
   ]
  },
  {
   "cell_type": "code",
   "execution_count": 9,
   "metadata": {},
   "outputs": [
    {
     "data": {
      "text/plain": [
       "173"
      ]
     },
     "execution_count": 9,
     "metadata": {},
     "output_type": "execute_result"
    }
   ],
   "source": [
    "titanic_dt['Age'].isnull().values.any()\n",
    "titanic_dt['Age'].isnull().sum()"
   ]
  },
  {
   "cell_type": "code",
   "execution_count": null,
   "metadata": {},
   "outputs": [],
   "source": [
    "\n"
   ]
  },
  {
   "cell_type": "code",
   "execution_count": null,
   "metadata": {},
   "outputs": [],
   "source": []
  },
  {
   "cell_type": "markdown",
   "metadata": {},
   "source": []
  },
  {
   "cell_type": "markdown",
   "metadata": {},
   "source": [
    "Tworzę tabelę z wybranymi agrumentami "
   ]
  },
  {
   "cell_type": "code",
   "execution_count": 10,
   "metadata": {},
   "outputs": [],
   "source": [
    "titanic_dt = titanic_dt[['PassengerId','Survived','Sex','Age','SibSp','Parch','Fare']]"
   ]
  },
  {
   "cell_type": "markdown",
   "metadata": {},
   "source": [
    "Następnie usuwam wszystkie wartości'N/A' z tabeli"
   ]
  },
  {
   "cell_type": "code",
   "execution_count": 11,
   "metadata": {},
   "outputs": [
    {
     "name": "stdout",
     "output_type": "stream",
     "text": [
      "Brakujące wartości usunięte: 173\n"
     ]
    }
   ],
   "source": [
    "def drop_na(titanic_n):\n",
    "    \n",
    "    titanic_dt = len(titanic_n)\n",
    "    titanic_n = titanic_n.dropna()\n",
    "    print(\"Brakujące wartości usunięte: {}\".format(titanic_dt - len(titanic_n)))\n",
    "    \n",
    "titanic_n = drop_na(titanic_dt)    "
   ]
  },
  {
   "cell_type": "markdown",
   "metadata": {},
   "source": [
    "To samo robię z duplikatami"
   ]
  },
  {
   "cell_type": "code",
   "execution_count": 12,
   "metadata": {},
   "outputs": [
    {
     "name": "stdout",
     "output_type": "stream",
     "text": [
      "Usunięte duplikaty: 4\n"
     ]
    }
   ],
   "source": [
    "def drop_dupl(titanic_n):\n",
    "    \n",
    "    duplicate = len(titanic_n[titanic_n['PassengerId'].duplicated()])\n",
    "    if duplicate > 0:\n",
    "        titanic_n = titanic_n.drop_duplicates(subset = 'PassengerId', keep=\"last\")\n",
    "        print (\"Usunięte duplikaty: {}\".format(duplicate))\n",
    "        return titanic_n\n",
    "    else:\n",
    "        return titanic_n\n",
    "    \n",
    "titanic_n = drop_dupl(titanic_dt)"
   ]
  },
  {
   "cell_type": "markdown",
   "metadata": {},
   "source": [
    "Sprawdzam czy nadal występują duplikaty"
   ]
  },
  {
   "cell_type": "code",
   "execution_count": 13,
   "metadata": {},
   "outputs": [
    {
     "data": {
      "text/html": [
       "<div>\n",
       "<style scoped>\n",
       "    .dataframe tbody tr th:only-of-type {\n",
       "        vertical-align: middle;\n",
       "    }\n",
       "\n",
       "    .dataframe tbody tr th {\n",
       "        vertical-align: top;\n",
       "    }\n",
       "\n",
       "    .dataframe thead th {\n",
       "        text-align: right;\n",
       "    }\n",
       "</style>\n",
       "<table border=\"1\" class=\"dataframe\">\n",
       "  <thead>\n",
       "    <tr style=\"text-align: right;\">\n",
       "      <th></th>\n",
       "      <th>PassengerId</th>\n",
       "      <th>Survived</th>\n",
       "      <th>Sex</th>\n",
       "      <th>Age</th>\n",
       "      <th>SibSp</th>\n",
       "      <th>Parch</th>\n",
       "      <th>Fare</th>\n",
       "    </tr>\n",
       "  </thead>\n",
       "  <tbody>\n",
       "  </tbody>\n",
       "</table>\n",
       "</div>"
      ],
      "text/plain": [
       "Empty DataFrame\n",
       "Columns: [PassengerId, Survived, Sex, Age, SibSp, Parch, Fare]\n",
       "Index: []"
      ]
     },
     "execution_count": 13,
     "metadata": {},
     "output_type": "execute_result"
    }
   ],
   "source": [
    "titanic_n[titanic_n.duplicated()]"
   ]
  },
  {
   "cell_type": "code",
   "execution_count": 14,
   "metadata": {},
   "outputs": [
    {
     "name": "stderr",
     "output_type": "stream",
     "text": [
      "C:\\ProgramData\\Anaconda3\\lib\\site-packages\\ipykernel_launcher.py:1: SettingWithCopyWarning: \n",
      "A value is trying to be set on a copy of a slice from a DataFrame\n",
      "\n",
      "See the caveats in the documentation: http://pandas.pydata.org/pandas-docs/stable/user_guide/indexing.html#returning-a-view-versus-a-copy\n",
      "  \"\"\"Entry point for launching an IPython kernel.\n"
     ]
    }
   ],
   "source": [
    "titanic_n.dropna(inplace= True)"
   ]
  },
  {
   "cell_type": "markdown",
   "metadata": {},
   "source": [
    "Robię porządek w kolumnie Sex ze względu na błędne wartości dotyczące nazwy płci. "
   ]
  },
  {
   "cell_type": "code",
   "execution_count": 15,
   "metadata": {},
   "outputs": [],
   "source": [
    "titanic_n = titanic_n.copy()\n",
    "titanic_n['Sex'] = titanic_n['Sex']. replace({'malef': 'male','mal': 'male','femmale': 'female','fem': 'female'})"
   ]
  },
  {
   "cell_type": "code",
   "execution_count": 16,
   "metadata": {},
   "outputs": [
    {
     "name": "stdout",
     "output_type": "stream",
     "text": [
      "['male' 'female']\n"
     ]
    }
   ],
   "source": [
    "print(titanic_n['Sex'].unique())"
   ]
  },
  {
   "cell_type": "markdown",
   "metadata": {},
   "source": [
    "## Weryfikuję wyczyszczone dane "
   ]
  },
  {
   "cell_type": "code",
   "execution_count": 17,
   "metadata": {},
   "outputs": [
    {
     "name": "stdout",
     "output_type": "stream",
     "text": [
      "<class 'pandas.core.frame.DataFrame'>\n",
      "Int64Index: 715 entries, 0 to 891\n",
      "Data columns (total 7 columns):\n",
      "PassengerId    715 non-null int64\n",
      "Survived       715 non-null int64\n",
      "Sex            715 non-null object\n",
      "Age            715 non-null object\n",
      "SibSp          715 non-null int64\n",
      "Parch          715 non-null int64\n",
      "Fare           715 non-null object\n",
      "dtypes: int64(4), object(3)\n",
      "memory usage: 44.7+ KB\n"
     ]
    }
   ],
   "source": [
    "titanic_n.info()"
   ]
  },
  {
   "cell_type": "markdown",
   "metadata": {},
   "source": [
    "Sprawdzam dokładniej kolumnę Age ze względu na wcześniej wyłapane w niej błędy"
   ]
  },
  {
   "cell_type": "code",
   "execution_count": 18,
   "metadata": {},
   "outputs": [
    {
     "data": {
      "text/plain": [
       "array(['22', '38', '26', '35', '54', '2', '27', '14', '58', '20', '55',\n",
       "       '31', '34', '15', '4', '8', '19', '40', '.9', '66', '28', '42',\n",
       "       '21', '18', '3', '7', '49', '29', '65', '28,5', '5', '11', '45',\n",
       "       '17', '32', '16', '25', '0,83', '30', '33', '23', '24', '46', '59',\n",
       "       '71', '37', '47', '14,5', '70,5', '32,5', '12', '9', '36,5', '51',\n",
       "       '55,5', '40,5', '44', '1', '61', '56', '50', '36', '45,5', '4435',\n",
       "       '20,5', '62', '41', '52', '63', '23,5', '0,92', '43', '60', '39',\n",
       "       '10', '64', '13', '48', '0,75', '-3', '-12', '53', '57', '80',\n",
       "       '250', '70', '24,5', '6', '0,67', '30,5', '0,42', '34,5', '74'],\n",
       "      dtype=object)"
      ]
     },
     "execution_count": 18,
     "metadata": {},
     "output_type": "execute_result"
    }
   ],
   "source": [
    "titanic_n.Age.unique()"
   ]
  },
  {
   "cell_type": "code",
   "execution_count": 19,
   "metadata": {},
   "outputs": [],
   "source": [
    "newAge= titanic_n['Age'].value_counts().to_dict()"
   ]
  },
  {
   "cell_type": "code",
   "execution_count": 20,
   "metadata": {},
   "outputs": [
    {
     "data": {
      "text/plain": [
       "{'24': 30,\n",
       " '22': 27,\n",
       " '18': 26,\n",
       " '19': 25,\n",
       " '21': 24,\n",
       " '30': 24,\n",
       " '28': 24,\n",
       " '36': 22,\n",
       " '25': 22,\n",
       " '29': 20,\n",
       " '35': 18,\n",
       " '32': 18,\n",
       " '26': 18,\n",
       " '27': 18,\n",
       " '16': 17,\n",
       " '31': 17,\n",
       " '23': 15,\n",
       " '33': 15,\n",
       " '34': 15,\n",
       " '20': 15,\n",
       " '40': 13,\n",
       " '17': 13,\n",
       " '39': 13,\n",
       " '42': 13,\n",
       " '45': 12,\n",
       " '38': 12,\n",
       " '2': 10,\n",
       " '4': 10,\n",
       " '50': 10,\n",
       " '47': 9,\n",
       " '48': 9,\n",
       " '44': 9,\n",
       " '54': 8,\n",
       " '9': 8,\n",
       " '51': 7,\n",
       " '1': 7,\n",
       " '49': 6,\n",
       " '3': 6,\n",
       " '52': 6,\n",
       " '37': 6,\n",
       " '41': 6,\n",
       " '14': 6,\n",
       " '15': 5,\n",
       " '58': 5,\n",
       " '60': 4,\n",
       " '8': 4,\n",
       " '5': 4,\n",
       " '62': 4,\n",
       " '56': 4,\n",
       " '11': 4,\n",
       " '43': 4,\n",
       " '46': 3,\n",
       " '6': 3,\n",
       " '65': 3,\n",
       " '61': 3,\n",
       " '7': 3,\n",
       " '71': 2,\n",
       " '70': 2,\n",
       " '63': 2,\n",
       " '45,5': 2,\n",
       " '28,5': 2,\n",
       " '0,75': 2,\n",
       " '32,5': 2,\n",
       " '30,5': 2,\n",
       " '59': 2,\n",
       " '64': 2,\n",
       " '57': 2,\n",
       " '10': 2,\n",
       " '0,83': 2,\n",
       " '13': 2,\n",
       " '40,5': 2,\n",
       " '55': 2,\n",
       " '70,5': 1,\n",
       " '0,92': 1,\n",
       " '36,5': 1,\n",
       " '20,5': 1,\n",
       " '14,5': 1,\n",
       " '74': 1,\n",
       " '-3': 1,\n",
       " '34,5': 1,\n",
       " '-12': 1,\n",
       " '250': 1,\n",
       " '.9': 1,\n",
       " '12': 1,\n",
       " '53': 1,\n",
       " '66': 1,\n",
       " '0,67': 1,\n",
       " '24,5': 1,\n",
       " '4435': 1,\n",
       " '80': 1,\n",
       " '0,42': 1,\n",
       " '23,5': 1,\n",
       " '55,5': 1}"
      ]
     },
     "metadata": {},
     "output_type": "display_data"
    }
   ],
   "source": [
    "display(newAge)"
   ]
  },
  {
   "cell_type": "markdown",
   "metadata": {},
   "source": [
    "Zauważamy że w kolumnie Age występują wartości dziesiętne, ujemne, które decyduję się usunąć."
   ]
  },
  {
   "cell_type": "code",
   "execution_count": 21,
   "metadata": {},
   "outputs": [],
   "source": [
    "titanic_n = titanic_n[titanic_n.Age.apply(lambda x: x.isnumeric())]"
   ]
  },
  {
   "cell_type": "code",
   "execution_count": 22,
   "metadata": {},
   "outputs": [
    {
     "data": {
      "text/html": [
       "<div>\n",
       "<style scoped>\n",
       "    .dataframe tbody tr th:only-of-type {\n",
       "        vertical-align: middle;\n",
       "    }\n",
       "\n",
       "    .dataframe tbody tr th {\n",
       "        vertical-align: top;\n",
       "    }\n",
       "\n",
       "    .dataframe thead th {\n",
       "        text-align: right;\n",
       "    }\n",
       "</style>\n",
       "<table border=\"1\" class=\"dataframe\">\n",
       "  <thead>\n",
       "    <tr style=\"text-align: right;\">\n",
       "      <th></th>\n",
       "      <th>PassengerId</th>\n",
       "      <th>Survived</th>\n",
       "      <th>Sex</th>\n",
       "      <th>Age</th>\n",
       "      <th>SibSp</th>\n",
       "      <th>Parch</th>\n",
       "      <th>Fare</th>\n",
       "    </tr>\n",
       "  </thead>\n",
       "  <tbody>\n",
       "    <tr>\n",
       "      <td>0</td>\n",
       "      <td>1</td>\n",
       "      <td>0</td>\n",
       "      <td>male</td>\n",
       "      <td>22</td>\n",
       "      <td>1</td>\n",
       "      <td>0</td>\n",
       "      <td>7,25</td>\n",
       "    </tr>\n",
       "    <tr>\n",
       "      <td>1</td>\n",
       "      <td>2</td>\n",
       "      <td>1</td>\n",
       "      <td>female</td>\n",
       "      <td>38</td>\n",
       "      <td>1</td>\n",
       "      <td>0</td>\n",
       "      <td>71,2833</td>\n",
       "    </tr>\n",
       "    <tr>\n",
       "      <td>2</td>\n",
       "      <td>3</td>\n",
       "      <td>1</td>\n",
       "      <td>female</td>\n",
       "      <td>26</td>\n",
       "      <td>0</td>\n",
       "      <td>0</td>\n",
       "      <td>7,925</td>\n",
       "    </tr>\n",
       "    <tr>\n",
       "      <td>3</td>\n",
       "      <td>4</td>\n",
       "      <td>1</td>\n",
       "      <td>female</td>\n",
       "      <td>35</td>\n",
       "      <td>1</td>\n",
       "      <td>0</td>\n",
       "      <td>53,1</td>\n",
       "    </tr>\n",
       "    <tr>\n",
       "      <td>4</td>\n",
       "      <td>5</td>\n",
       "      <td>0</td>\n",
       "      <td>male</td>\n",
       "      <td>35</td>\n",
       "      <td>0</td>\n",
       "      <td>0</td>\n",
       "      <td>8,05</td>\n",
       "    </tr>\n",
       "    <tr>\n",
       "      <td>...</td>\n",
       "      <td>...</td>\n",
       "      <td>...</td>\n",
       "      <td>...</td>\n",
       "      <td>...</td>\n",
       "      <td>...</td>\n",
       "      <td>...</td>\n",
       "      <td>...</td>\n",
       "    </tr>\n",
       "    <tr>\n",
       "      <td>886</td>\n",
       "      <td>887</td>\n",
       "      <td>0</td>\n",
       "      <td>male</td>\n",
       "      <td>27</td>\n",
       "      <td>0</td>\n",
       "      <td>0</td>\n",
       "      <td>13</td>\n",
       "    </tr>\n",
       "    <tr>\n",
       "      <td>887</td>\n",
       "      <td>888</td>\n",
       "      <td>1</td>\n",
       "      <td>female</td>\n",
       "      <td>19</td>\n",
       "      <td>0</td>\n",
       "      <td>0</td>\n",
       "      <td>30</td>\n",
       "    </tr>\n",
       "    <tr>\n",
       "      <td>889</td>\n",
       "      <td>890</td>\n",
       "      <td>1</td>\n",
       "      <td>male</td>\n",
       "      <td>26</td>\n",
       "      <td>0</td>\n",
       "      <td>0</td>\n",
       "      <td>30</td>\n",
       "    </tr>\n",
       "    <tr>\n",
       "      <td>890</td>\n",
       "      <td>891</td>\n",
       "      <td>0</td>\n",
       "      <td>male</td>\n",
       "      <td>32</td>\n",
       "      <td>0</td>\n",
       "      <td>0</td>\n",
       "      <td>7,75</td>\n",
       "    </tr>\n",
       "    <tr>\n",
       "      <td>891</td>\n",
       "      <td>1000</td>\n",
       "      <td>1</td>\n",
       "      <td>male</td>\n",
       "      <td>38</td>\n",
       "      <td>1</td>\n",
       "      <td>0</td>\n",
       "      <td>90</td>\n",
       "    </tr>\n",
       "  </tbody>\n",
       "</table>\n",
       "<p>687 rows × 7 columns</p>\n",
       "</div>"
      ],
      "text/plain": [
       "     PassengerId  Survived     Sex Age  SibSp  Parch     Fare\n",
       "0              1         0    male  22      1      0     7,25\n",
       "1              2         1  female  38      1      0  71,2833\n",
       "2              3         1  female  26      0      0    7,925\n",
       "3              4         1  female  35      1      0     53,1\n",
       "4              5         0    male  35      0      0     8,05\n",
       "..           ...       ...     ...  ..    ...    ...      ...\n",
       "886          887         0    male  27      0      0       13\n",
       "887          888         1  female  19      0      0       30\n",
       "889          890         1    male  26      0      0       30\n",
       "890          891         0    male  32      0      0     7,75\n",
       "891         1000         1    male  38      1      0       90\n",
       "\n",
       "[687 rows x 7 columns]"
      ]
     },
     "execution_count": 22,
     "metadata": {},
     "output_type": "execute_result"
    }
   ],
   "source": [
    "titanic_n"
   ]
  },
  {
   "cell_type": "code",
   "execution_count": 23,
   "metadata": {},
   "outputs": [],
   "source": [
    "titanic_n= titanic_n.astype({\"Age\": int, \"Survived\": bool})"
   ]
  },
  {
   "cell_type": "code",
   "execution_count": 24,
   "metadata": {},
   "outputs": [
    {
     "name": "stdout",
     "output_type": "stream",
     "text": [
      "     PassengerId  Survived   Sex   Age  SibSp  Parch    Fare\n",
      "223          224     False  male  4435      0      0  7,8958\n",
      "666          667     False  male   250      0      0      13\n"
     ]
    }
   ],
   "source": [
    "print(titanic_n[titanic_n['Age'] > 100])\n",
    "titanic_n = titanic_n[titanic_n ['Age']< 100]"
   ]
  },
  {
   "cell_type": "code",
   "execution_count": null,
   "metadata": {},
   "outputs": [],
   "source": [
    "#zakładam, iż wiek powyżej 100 lat nie jest brany pod uwagę w naszej analizie, dlatego wartości nieprawidłowe powyżej 100 zostają usunięte"
   ]
  },
  {
   "cell_type": "markdown",
   "metadata": {},
   "source": [
    "Plik został oczyszczony zgodznie z założonymi przeze mnie punktami.\n",
    "Zapisuję go jako plik :TitanicCleaned.tsv\""
   ]
  },
  {
   "cell_type": "code",
   "execution_count": 25,
   "metadata": {},
   "outputs": [],
   "source": [
    "titanic_n.to_csv('TitanicCleaned.tsv', index = False)"
   ]
  },
  {
   "cell_type": "markdown",
   "metadata": {},
   "source": [
    "## Wnioski ##"
   ]
  },
  {
   "cell_type": "markdown",
   "metadata": {},
   "source": [
    "Wgrany przez nas plik do analizy \"TitanicMess.tsv\" wymagał usunięcia duplikatów, wartości brakujących oraz zbędnych kolumn. Niektóre wartości wymagały również delikatnej poprawy pisowni. \n",
    "Brakujące wartości zdecydowałam się usunąć ponieważ było ich zbyt wiele i w większości dotyczyły one atrybutów które nie miałyby większego znaczenia również ograniczenie  dalszej analizie danych. Bardzo korzystnym posunięciem było również ograniczenie zbioru do kolumn PassengerId, Survived, Sex, Age, SibSp, Parch, Fare. \n",
    "\n",
    "Powyższy skrypt może być wykorzystany dla innych danych wejściowych, ale z wcześniejszym zapoznaniem się z danymi, ponieważ w powyższej analizie zostały wykonane czynności, które przy analizie innych danych nie powinny/ nie musiałyby mieć miejsca jak np. poprawa literówek dla kolumny Sex.  "
   ]
  },
  {
   "cell_type": "code",
   "execution_count": null,
   "metadata": {},
   "outputs": [],
   "source": []
  },
  {
   "cell_type": "code",
   "execution_count": null,
   "metadata": {},
   "outputs": [],
   "source": []
  },
  {
   "cell_type": "code",
   "execution_count": null,
   "metadata": {},
   "outputs": [],
   "source": []
  }
 ],
 "metadata": {
  "kernelspec": {
   "display_name": "Python 3",
   "language": "python",
   "name": "python3"
  },
  "language_info": {
   "codemirror_mode": {
    "name": "ipython",
    "version": 3
   },
   "file_extension": ".py",
   "mimetype": "text/x-python",
   "name": "python",
   "nbconvert_exporter": "python",
   "pygments_lexer": "ipython3",
   "version": "3.7.4"
  }
 },
 "nbformat": 4,
 "nbformat_minor": 2
}
